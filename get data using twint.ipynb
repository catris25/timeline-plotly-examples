{
 "cells": [
  {
   "cell_type": "code",
   "execution_count": 1,
   "metadata": {
    "ExecuteTime": {
     "end_time": "2021-02-22T12:33:51.657874Z",
     "start_time": "2021-02-22T12:33:49.779229Z"
    }
   },
   "outputs": [],
   "source": [
    "import pandas as pd\n",
    "import numpy as np\n",
    "import twint"
   ]
  },
  {
   "cell_type": "code",
   "execution_count": 2,
   "metadata": {
    "ExecuteTime": {
     "end_time": "2021-02-22T12:33:51.693401Z",
     "start_time": "2021-02-22T12:33:51.671241Z"
    }
   },
   "outputs": [],
   "source": [
    "# If error happens, refer to\n",
    "# https://github.com/twintproject/twint/issues/973\n",
    "import nest_asyncio\n",
    "nest_asyncio.apply()"
   ]
  },
  {
   "cell_type": "code",
   "execution_count": 6,
   "metadata": {
    "ExecuteTime": {
     "end_time": "2021-02-22T12:58:02.979184Z",
     "start_time": "2021-02-22T12:58:02.942060Z"
    }
   },
   "outputs": [],
   "source": [
    "# def search_account(username):\n",
    "#     c = twint.Config()\n",
    "    \n",
    "#     c.Username = username\n",
    "#     c.Limit = 20000\n",
    "#     c.Pandas = True\n",
    "#     c.Store_csv = True\n",
    "#     c.Profile_full = True\n",
    "#     c.Since = '2021-1-1'\n",
    "#     c.Output = \"data/account-\"+username + \".csv\"\n",
    "\n",
    "#     twint.run.Search(c)\n",
    "    \n",
    "def search_keyword(keyword, fname):\n",
    "    c = twint.Config()\n",
    "    c.Search = keyword\n",
    "    c.Custom[\"tweet\"] = [\"id\", \"user_id\", \"created_at\", \"tweet\", \"retweet\", \n",
    "                        \"replies_count\", \"retweets_count\", \"likes_count\"]\n",
    "    c.Store_json = True\n",
    "    c.Hide_output = True\n",
    "    c.Output = \"data/\"+fname+\".json\"\n",
    "#     c.Lang = 'en'\n",
    "\n",
    "    c.Since = \"2020-01-01 00:00:00\"\n",
    "    c.Until = \"2021-01-31 00:00:00\"\n",
    "\n",
    "    twint.run.Search(c)"
   ]
  },
  {
   "cell_type": "code",
   "execution_count": null,
   "metadata": {
    "ExecuteTime": {
     "end_time": "2021-02-17T10:50:24.740163Z",
     "start_time": "2021-02-17T10:50:24.737175Z"
    }
   },
   "outputs": [],
   "source": []
  },
  {
   "cell_type": "code",
   "execution_count": null,
   "metadata": {
    "ExecuteTime": {
     "end_time": "2021-02-17T10:54:55.313195Z",
     "start_time": "2021-02-17T10:54:55.308193Z"
    }
   },
   "outputs": [],
   "source": []
  },
  {
   "cell_type": "code",
   "execution_count": 7,
   "metadata": {
    "ExecuteTime": {
     "end_time": "2021-02-22T13:25:03.031630Z",
     "start_time": "2021-02-22T12:58:08.222895Z"
    }
   },
   "outputs": [
    {
     "name": "stdout",
     "output_type": "stream",
     "text": [
      "[!] No more data! Scraping will stop now.\n",
      "found 0 deleted tweets in this search.\n"
     ]
    }
   ],
   "source": [
    "search_keyword(\"malioboro\", \"keyword-malioboro\")"
   ]
  },
  {
   "cell_type": "code",
   "execution_count": 5,
   "metadata": {
    "ExecuteTime": {
     "end_time": "2021-02-22T12:47:29.357023Z",
     "start_time": "2021-02-22T12:47:29.269015Z"
    }
   },
   "outputs": [
    {
     "name": "stdout",
     "output_type": "stream",
     "text": [
      "Python 3.8.3\n"
     ]
    }
   ],
   "source": [
    "!python --version"
   ]
  }
 ],
 "metadata": {
  "kernelspec": {
   "display_name": "Python 3",
   "language": "python",
   "name": "python3"
  },
  "language_info": {
   "codemirror_mode": {
    "name": "ipython",
    "version": 3
   },
   "file_extension": ".py",
   "mimetype": "text/x-python",
   "name": "python",
   "nbconvert_exporter": "python",
   "pygments_lexer": "ipython3",
   "version": "3.8.3"
  }
 },
 "nbformat": 4,
 "nbformat_minor": 2
}
